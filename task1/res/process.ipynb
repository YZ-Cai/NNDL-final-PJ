{
 "cells": [
  {
   "cell_type": "code",
   "execution_count": 5,
   "metadata": {},
   "outputs": [],
   "source": [
    "import os\n",
    "import pandas as pd\n",
    "\n",
    "files = os.listdir('.')"
   ]
  },
  {
   "cell_type": "markdown",
   "metadata": {},
   "source": [
    "read results"
   ]
  },
  {
   "cell_type": "code",
   "execution_count": 6,
   "metadata": {},
   "outputs": [],
   "source": [
    "def get_name(configs):\n",
    "    name = configs[0]\n",
    "    if name == \"SupervisedPretrainedFinetune\":\n",
    "        return \"Supervised Pretrained (Finetune)\"\n",
    "    if name == \"SelfSupervisedPretrainedFinetune\":\n",
    "        return \"Self-supervised Pretrained (Finetune)\"\n",
    "    if name == \"SupervisedPretrained\":\n",
    "        return \"Supervised Pretrained (Linear)\"\n",
    "    if name == \"SelfSupervisedPretrained\":\n",
    "        if 'cifar10' in configs:\n",
    "            return \"Self-supervised Pretrained (Linear, CIFAR-10)\"\n",
    "        if 'stl10' in configs:\n",
    "            return \"Self-supervised Pretrained (Linear, STL-10)\"\n",
    "        return \"Self-supervised Pretrained (Linear)\"\n",
    "    return \"Supervsed (from scratch)\""
   ]
  },
  {
   "cell_type": "code",
   "execution_count": 7,
   "metadata": {},
   "outputs": [],
   "source": [
    "results = []\n",
    "for file in files:\n",
    "\tif file.endswith('accuracy.csv'):\n",
    "\t\tdf = pd.read_csv(file)\n",
    "\t\tconfigs = file.split('_')\n",
    "\t\tresults.append({\n",
    "\t\t\t\"Settting\": get_name(configs),\n",
    "\t\t\t\"Optimizer\": configs[2],\n",
    "\t\t\t\"Learning_ ate\": configs[3][2:],\n",
    "\t\t\t\"Batch size\": configs[4][2:].split(\"+\")[0],\n",
    "   \t\t\t\"Pretraining Sample ratio\": configs[-2][2:] if \"_sr\" in file else \"-\",\n",
    "\t\t\t\"Test accuracy\": df['test_acc'].max(),\n",
    "\t\t})"
   ]
  },
  {
   "cell_type": "markdown",
   "metadata": {},
   "source": [
    "output results"
   ]
  },
  {
   "cell_type": "code",
   "execution_count": 8,
   "metadata": {},
   "outputs": [
    {
     "name": "stdout",
     "output_type": "stream",
     "text": [
      "| Settting                                      | Optimizer   |   Learning_ ate |   Batch size | Pretraining Sample ratio   |   Test accuracy |\n",
      "|:----------------------------------------------|:------------|----------------:|-------------:|:---------------------------|----------------:|\n",
      "| Supervised Pretrained (Finetune)              | sgd         |           0.01  |          128 | -                          |          0.8045 |\n",
      "| Supervised Pretrained (Finetune)              | sgd         |           0.01  |          256 | -                          |          0.8016 |\n",
      "| Supervised Pretrained (Finetune)              | sgd         |           0.001 |           32 | -                          |          0.7996 |\n",
      "| Supervised Pretrained (Finetune)              | sgd         |           0.01  |           64 | -                          |          0.7988 |\n",
      "| Supervised Pretrained (Finetune)              | sgd         |           0.001 |           64 | -                          |          0.764  |\n",
      "| Supervised Pretrained (Finetune)              | sgd         |           0.01  |           32 | -                          |          0.752  |\n",
      "| Supervised Pretrained (Finetune)              | sgd         |           0.001 |          128 | -                          |          0.7393 |\n",
      "| Supervsed (from scratch)                      | sgd         |           0.001 |           32 | -                          |          0.7175 |\n",
      "| Supervised Pretrained (Finetune)              | sgd         |           0.001 |          256 | -                          |          0.7159 |\n",
      "| Supervised Pretrained (Linear)                | sgd         |           0.001 |          128 | -                          |          0.7043 |\n",
      "| Supervised Pretrained (Linear)                | sgd         |           0.01  |          128 | -                          |          0.7036 |\n",
      "| Supervsed (from scratch)                      | sgd         |           0.001 |           64 | -                          |          0.7029 |\n",
      "| Supervised Pretrained (Linear)                | adam        |           0.001 |          128 | -                          |          0.701  |\n",
      "| Supervised Pretrained (Finetune)              | sgd         |           0.1   |          256 | -                          |          0.6972 |\n",
      "| Supervsed (from scratch)                      | sgd         |           0.01  |          256 | -                          |          0.6965 |\n",
      "| Self-supervised Pretrained (Finetune)         | sgd         |           0.01  |          128 | 0.3                        |          0.6965 |\n",
      "| Self-supervised Pretrained (Finetune)         | sgd         |           0.01  |          128 | 1.0                        |          0.6962 |\n",
      "| Self-supervised Pretrained (Finetune)         | sgd         |           0.01  |          128 | 0.5                        |          0.695  |\n",
      "| Supervsed (from scratch)                      | sgd         |           0.01  |          128 | -                          |          0.6902 |\n",
      "| Supervsed (from scratch)                      | sgd         |           0.001 |          128 | -                          |          0.6874 |\n",
      "| Supervsed (from scratch)                      | sgd         |           0.01  |           64 | -                          |          0.6857 |\n",
      "| Supervsed (from scratch)                      | sgd         |           0.01  |           32 | -                          |          0.6852 |\n",
      "| Self-supervised Pretrained (Finetune)         | sgd         |           0.01  |          128 | 0.1                        |          0.6788 |\n",
      "| Supervsed (from scratch)                      | adam        |           0.001 |          256 | -                          |          0.6787 |\n",
      "| Supervsed (from scratch)                      | adam        |           0.001 |          128 | -                          |          0.6706 |\n",
      "| Supervsed (from scratch)                      | sgd         |           0.001 |          256 | -                          |          0.6572 |\n",
      "| Supervsed (from scratch)                      | adam        |           0.001 |           64 | -                          |          0.6514 |\n",
      "| Supervised Pretrained (Finetune)              | adam        |           0.001 |          256 | -                          |          0.6468 |\n",
      "| Supervised Pretrained (Linear)                | sgd         |           0.1   |          128 | -                          |          0.6468 |\n",
      "| Supervised Pretrained (Linear)                | adam        |           0.01  |          128 | -                          |          0.6444 |\n",
      "| Supervsed (from scratch)                      | sgd         |           0.1   |          256 | -                          |          0.6371 |\n",
      "| Supervised Pretrained (Finetune)              | adam        |           0.001 |          128 | -                          |          0.6343 |\n",
      "| Supervised Pretrained (Finetune)              | adam        |           0.001 |           64 | -                          |          0.6277 |\n",
      "| Self-supervised Pretrained (Finetune)         | sgd         |           0.001 |          128 | 1.0                        |          0.6145 |\n",
      "| Supervised Pretrained (Finetune)              | adam        |           0.001 |           32 | -                          |          0.6109 |\n",
      "| Self-supervised Pretrained (Finetune)         | sgd         |           0.001 |          128 | 0.3                        |          0.6069 |\n",
      "| Supervsed (from scratch)                      | sgd         |           0.1   |          128 | -                          |          0.6055 |\n",
      "| Supervsed (from scratch)                      | adam        |           0.001 |           32 | -                          |          0.6049 |\n",
      "| Self-supervised Pretrained (Finetune)         | sgd         |           0.001 |          128 | 0.1                        |          0.6032 |\n",
      "| Self-supervised Pretrained (Finetune)         | sgd         |           0.001 |          128 | 0.5                        |          0.5788 |\n",
      "| Self-supervised Pretrained (Finetune)         | adam        |           0.001 |          128 | 0.3                        |          0.5688 |\n",
      "| Self-supervised Pretrained (Finetune)         | adam        |           0.001 |          128 | 0.5                        |          0.5664 |\n",
      "| Self-supervised Pretrained (Finetune)         | adam        |           0.001 |          128 | 0.1                        |          0.5663 |\n",
      "| Self-supervised Pretrained (Finetune)         | adam        |           0.001 |          128 | 1.0                        |          0.5537 |\n",
      "| Supervsed (from scratch)                      | sgd         |           0.1   |           64 | -                          |          0.5482 |\n",
      "| Self-supervised Pretrained (Finetune)         | sgd         |           0.1   |          128 | 0.1                        |          0.5464 |\n",
      "| Self-supervised Pretrained (Finetune)         | sgd         |           0.1   |          128 | 0.3                        |          0.5463 |\n",
      "| Supervised Pretrained (Finetune)              | sgd         |           0.1   |          128 | -                          |          0.5437 |\n",
      "| Supervised Pretrained (Finetune)              | sgd         |           0.1   |           64 | -                          |          0.5435 |\n",
      "| Self-supervised Pretrained (Finetune)         | sgd         |           0.1   |          128 | 0.5                        |          0.5389 |\n",
      "| Self-supervised Pretrained (Finetune)         | sgd         |           0.1   |          128 | 1.0                        |          0.5325 |\n",
      "| Supervised Pretrained (Linear)                | adam        |           0.1   |          128 | -                          |          0.5229 |\n",
      "| Self-supervised Pretrained (Linear)           | sgd         |           0.01  |          128 | 0.1                        |          0.4946 |\n",
      "| Self-supervised Pretrained (Linear)           | adam        |           0.001 |          128 | 0.1                        |          0.4889 |\n",
      "| Supervised Pretrained (Finetune)              | sgd         |           0.1   |           32 | -                          |          0.4745 |\n",
      "| Self-supervised Pretrained (Linear)           | sgd         |           0.01  |          128 | 0.3                        |          0.4662 |\n",
      "| Self-supervised Pretrained (Linear)           | sgd         |           0.001 |          128 | 0.1                        |          0.4661 |\n",
      "| Supervsed (from scratch)                      | sgd         |           0.1   |           32 | -                          |          0.4646 |\n",
      "| Self-supervised Pretrained (Linear)           | adam        |           0.001 |          128 | 0.3                        |          0.463  |\n",
      "| Self-supervised Pretrained (Linear)           | sgd         |           0.1   |          128 | 0.3                        |          0.4525 |\n",
      "| Self-supervised Pretrained (Linear)           | sgd         |           0.1   |          128 | 0.1                        |          0.4456 |\n",
      "| Self-supervised Pretrained (Linear)           | sgd         |           0.01  |          128 | 1.0                        |          0.4312 |\n",
      "| Self-supervised Pretrained (Linear)           | adam        |           0.001 |          128 | 1.0                        |          0.4305 |\n",
      "| Self-supervised Pretrained (Linear)           | adam        |           0.01  |          128 | 0.1                        |          0.4268 |\n",
      "| Self-supervised Pretrained (Linear)           | sgd         |           0.001 |          128 | 0.3                        |          0.4235 |\n",
      "| Self-supervised Pretrained (Linear)           | adam        |           0.01  |          128 | 0.3                        |          0.4218 |\n",
      "| Self-supervised Pretrained (Linear)           | sgd         |           0.1   |          128 | 1.0                        |          0.4217 |\n",
      "| Self-supervised Pretrained (Linear)           | sgd         |           0.01  |          128 | 0.5                        |          0.4146 |\n",
      "| Self-supervised Pretrained (Linear)           | sgd         |           0.1   |          128 | 0.5                        |          0.4117 |\n",
      "| Self-supervised Pretrained (Linear)           | adam        |           0.001 |          128 | 0.5                        |          0.4116 |\n",
      "| Supervised Pretrained (Finetune)              | adam        |           0.01  |          256 | -                          |          0.4047 |\n",
      "| Self-supervised Pretrained (Linear)           | adam        |           0.01  |          128 | 1.0                        |          0.3888 |\n",
      "| Self-supervised Pretrained (Linear, STL-10)   | adam        |           0.001 |          128 | -                          |          0.3868 |\n",
      "| Self-supervised Pretrained (Linear)           | adam        |           0.01  |          128 | 0.5                        |          0.3837 |\n",
      "| Self-supervised Pretrained (Linear)           | sgd         |           0.001 |          128 | 1.0                        |          0.3833 |\n",
      "| Self-supervised Pretrained (Finetune)         | adam        |           0.01  |          128 | 0.3                        |          0.3814 |\n",
      "| Supervsed (from scratch)                      | adam        |           0.01  |          256 | -                          |          0.3738 |\n",
      "| Self-supervised Pretrained (Finetune)         | adam        |           0.01  |          128 | 1.0                        |          0.3667 |\n",
      "| Self-supervised Pretrained (Finetune)         | adam        |           0.01  |          128 | 0.5                        |          0.364  |\n",
      "| Supervised Pretrained (Finetune)              | adam        |           0.01  |          128 | -                          |          0.3602 |\n",
      "| Self-supervised Pretrained (Finetune)         | adam        |           0.01  |          128 | 0.1                        |          0.3587 |\n",
      "| Self-supervised Pretrained (Linear)           | sgd         |           0.001 |          128 | 0.5                        |          0.353  |\n",
      "| Supervsed (from scratch)                      | adam        |           0.01  |          128 | -                          |          0.3336 |\n",
      "| Supervised Pretrained (Finetune)              | adam        |           0.01  |           64 | -                          |          0.2881 |\n",
      "| Self-supervised Pretrained (Linear)           | adam        |           0.1   |          128 | 0.3                        |          0.2839 |\n",
      "| Supervsed (from scratch)                      | adam        |           0.01  |           64 | -                          |          0.2789 |\n",
      "| Self-supervised Pretrained (Linear)           | adam        |           0.1   |          128 | 0.1                        |          0.278  |\n",
      "| Self-supervised Pretrained (Linear, CIFAR-10) | adam        |           0.001 |          128 | -                          |          0.2707 |\n",
      "| Self-supervised Pretrained (Linear)           | adam        |           0.1   |          128 | 0.5                        |          0.2698 |\n",
      "| Self-supervised Pretrained (Linear)           | adam        |           0.1   |          128 | 1.0                        |          0.2539 |\n",
      "| Supervised Pretrained (Finetune)              | adam        |           0.01  |           32 | -                          |          0.2396 |\n",
      "| Supervsed (from scratch)                      | adam        |           0.01  |           32 | -                          |          0.1902 |\n",
      "| Supervised Pretrained (Finetune)              | adam        |           0.1   |          256 | -                          |          0.0862 |\n",
      "| Supervised Pretrained (Finetune)              | adam        |           0.1   |          128 | -                          |          0.0835 |\n",
      "| Supervsed (from scratch)                      | adam        |           0.1   |          256 | -                          |          0.0634 |\n",
      "| Self-supervised Pretrained (Finetune)         | adam        |           0.1   |          128 | 1.0                        |          0.0591 |\n",
      "| Self-supervised Pretrained (Finetune)         | adam        |           0.1   |          128 | 0.1                        |          0.0568 |\n",
      "| Supervised Pretrained (Finetune)              | adam        |           0.1   |           64 | -                          |          0.0448 |\n",
      "| Self-supervised Pretrained (Finetune)         | adam        |           0.1   |          128 | 0.3                        |          0.0399 |\n",
      "| Self-supervised Pretrained (Finetune)         | adam        |           0.1   |          128 | 0.5                        |          0.0361 |\n",
      "| Supervised Pretrained (Finetune)              | adam        |           0.1   |           32 | -                          |          0.0337 |\n",
      "| Supervsed (from scratch)                      | adam        |           0.1   |           64 | -                          |          0.0311 |\n",
      "| Supervsed (from scratch)                      | adam        |           0.1   |          128 | -                          |          0.0299 |\n",
      "| Supervsed (from scratch)                      | adam        |           0.1   |           32 | -                          |          0.0231 |\n"
     ]
    }
   ],
   "source": [
    "res_df = pd.DataFrame(results)\n",
    "res_df = res_df.sort_values(by='Test accuracy', ascending=False)\n",
    "print(res_df.to_markdown(index=False))"
   ]
  }
 ],
 "metadata": {
  "kernelspec": {
   "display_name": "base",
   "language": "python",
   "name": "python3"
  },
  "language_info": {
   "codemirror_mode": {
    "name": "ipython",
    "version": 3
   },
   "file_extension": ".py",
   "mimetype": "text/x-python",
   "name": "python",
   "nbconvert_exporter": "python",
   "pygments_lexer": "ipython3",
   "version": "3.8.3"
  }
 },
 "nbformat": 4,
 "nbformat_minor": 2
}
