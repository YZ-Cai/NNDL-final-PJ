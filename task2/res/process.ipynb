{
 "cells": [
  {
   "cell_type": "code",
   "execution_count": 1,
   "metadata": {},
   "outputs": [],
   "source": [
    "import os\n",
    "import pandas as pd\n",
    "\n",
    "files = os.listdir('.')"
   ]
  },
  {
   "cell_type": "markdown",
   "metadata": {},
   "source": [
    "read results"
   ]
  },
  {
   "cell_type": "code",
   "execution_count": 2,
   "metadata": {},
   "outputs": [],
   "source": [
    "results = []\n",
    "for file in files:\n",
    "\tif file.endswith('accuracy.csv'):\n",
    "\t\tdf = pd.read_csv(file)\n",
    "\t\tconfigs = file.split('_')\n",
    "\t\tresults.append({\n",
    "\t\t\t\"Model\": configs[0],\n",
    "\t\t\t\"Optimizer\": configs[2],\n",
    "\t\t\t\"Learning rate\": configs[3][2:],\n",
    "\t\t\t\"Batch size\": configs[4][2:],\n",
    "\t\t\t\"ViT patch size\": configs[5][5:] if 'patch' in file else '-',\n",
    "\t\t\t\"Test accuracy\": df['test_acc'].max(),\n",
    "\t\t})"
   ]
  },
  {
   "cell_type": "markdown",
   "metadata": {},
   "source": [
    "output results"
   ]
  },
  {
   "cell_type": "code",
   "execution_count": 3,
   "metadata": {},
   "outputs": [
    {
     "name": "stdout",
     "output_type": "stream",
     "text": [
      "| Model     | Optimizer   |   Learning rate |   Batch size | ViT patch size   |   Test accuracy |\n",
      "|:----------|:------------|----------------:|-------------:|:-----------------|----------------:|\n",
      "| resnet50  | sgd         |           0.1   |           64 | -                |          0.7946 |\n",
      "| resnet152 | sgd         |           0.1   |           64 | -                |          0.7911 |\n",
      "| resnet18  | sgd         |           0.1   |           64 | -                |          0.7826 |\n",
      "| resnet18  | sgd         |           0.01  |           32 | -                |          0.7814 |\n",
      "| resnet18  | sgd         |           0.1   |          128 | -                |          0.7757 |\n",
      "| resnet18  | sgd         |           0.1   |          256 | -                |          0.7687 |\n",
      "| resnet18  | sgd         |           0.1   |           32 | -                |          0.7683 |\n",
      "| resnet18  | sgd         |           0.01  |           64 | -                |          0.7672 |\n",
      "| resnet18  | sgd         |           0.001 |           32 | -                |          0.7567 |\n",
      "| resnet18  | sgd         |           0.01  |          128 | -                |          0.7561 |\n",
      "| resnet18  | adam        |           0.001 |          256 | -                |          0.7468 |\n",
      "| resnet18  | sgd         |           0.01  |          256 | -                |          0.7463 |\n",
      "| resnet18  | adam        |           0.001 |          128 | -                |          0.7319 |\n",
      "| resnet18  | sgd         |           0.001 |           64 | -                |          0.729  |\n",
      "| resnet18  | sgd         |           0.001 |          128 | -                |          0.6956 |\n",
      "| resnet18  | adam        |           0.001 |           64 | -                |          0.6788 |\n",
      "| resnet18  | adam        |           0.001 |           32 | -                |          0.6383 |\n",
      "| resnet18  | sgd         |           0.001 |          256 | -                |          0.6377 |\n",
      "| vit       | sgd         |           0.01  |           64 | 4                |          0.5362 |\n",
      "| vit-base  | sgd         |           0.01  |           64 | 4                |          0.5341 |\n",
      "| vit-large | sgd         |           0.01  |           64 | 4                |          0.5337 |\n",
      "| vit       | sgd         |           0.01  |           32 | 4                |          0.5319 |\n",
      "| vit       | sgd         |           0.01  |          128 | 4                |          0.5261 |\n",
      "| vit       | sgd         |           0.001 |           32 | 4                |          0.5089 |\n",
      "| vit       | sgd         |           0.01  |          256 | 4                |          0.5077 |\n",
      "| vit       | sgd         |           0.1   |          256 | 4                |          0.4909 |\n",
      "| vit       | sgd         |           0.001 |           64 | 4                |          0.4741 |\n",
      "| resnet18  | adam        |           0.01  |          256 | -                |          0.4565 |\n",
      "| vit       | adam        |           0.001 |          256 | 4                |          0.4492 |\n",
      "| vit       | sgd         |           0.1   |          128 | 4                |          0.4407 |\n",
      "| vit-large | sgd         |           0.01  |           64 | 8                |          0.4384 |\n",
      "| vit       | adam        |           0.001 |          128 | 4                |          0.4297 |\n",
      "| resnet18  | adam        |           0.01  |          128 | -                |          0.4273 |\n",
      "| vit       | sgd         |           0.001 |          128 | 4                |          0.4129 |\n",
      "| vit-base  | sgd         |           0.01  |           64 | 8                |          0.4058 |\n",
      "| vit       | adam        |           0.001 |           64 | 4                |          0.4001 |\n",
      "| resnet18  | adam        |           0.01  |           64 | -                |          0.3931 |\n",
      "| vit       | sgd         |           0.1   |           64 | 4                |          0.3895 |\n",
      "| vit       | adam        |           0.001 |           32 | 4                |          0.3802 |\n",
      "| resnet18  | adam        |           0.01  |           32 | -                |          0.3418 |\n",
      "| vit       | sgd         |           0.001 |          256 | 4                |          0.332  |\n",
      "| resnet18  | adam        |           0.1   |          128 | -                |          0.3258 |\n",
      "| resnet18  | adam        |           0.1   |           64 | -                |          0.2939 |\n",
      "| vit-large | sgd         |           0.01  |           64 | 16               |          0.2864 |\n",
      "| vit       | adam        |           0.01  |          256 | 4                |          0.2844 |\n",
      "| vit       | sgd         |           0.1   |           32 | 4                |          0.2782 |\n",
      "| resnet18  | adam        |           0.1   |          256 | -                |          0.2763 |\n",
      "| resnet18  | adam        |           0.1   |           32 | -                |          0.2733 |\n",
      "| vit-base  | sgd         |           0.01  |           64 | 16               |          0.2703 |\n",
      "| vit       | adam        |           0.01  |          128 | 4                |          0.2453 |\n",
      "| vit       | adam        |           0.01  |           64 | 4                |          0.2315 |\n",
      "| vit       | adam        |           0.01  |           32 | 4                |          0.2276 |\n",
      "| vit       | adam        |           0.1   |           64 | 4                |          0.2164 |\n",
      "| vit       | adam        |           0.1   |          128 | 4                |          0.205  |\n",
      "| vit       | adam        |           0.1   |          256 | 4                |          0.1804 |\n",
      "| vit       | adam        |           0.1   |           32 | 4                |          0.1586 |\n"
     ]
    }
   ],
   "source": [
    "res_df = pd.DataFrame(results)\n",
    "res_df = res_df.sort_values(by='Test accuracy', ascending=False)\n",
    "print(res_df.to_markdown(index=False))"
   ]
  }
 ],
 "metadata": {
  "kernelspec": {
   "display_name": "base",
   "language": "python",
   "name": "python3"
  },
  "language_info": {
   "codemirror_mode": {
    "name": "ipython",
    "version": 3
   },
   "file_extension": ".py",
   "mimetype": "text/x-python",
   "name": "python",
   "nbconvert_exporter": "python",
   "pygments_lexer": "ipython3",
   "version": "3.8.3"
  }
 },
 "nbformat": 4,
 "nbformat_minor": 2
}
