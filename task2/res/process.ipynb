{
 "cells": [
  {
   "cell_type": "code",
   "execution_count": 5,
   "metadata": {},
   "outputs": [],
   "source": [
    "import os\n",
    "import pandas as pd\n",
    "\n",
    "files = os.listdir('.')"
   ]
  },
  {
   "cell_type": "markdown",
   "metadata": {},
   "source": [
    "read results"
   ]
  },
  {
   "cell_type": "code",
   "execution_count": 11,
   "metadata": {},
   "outputs": [],
   "source": [
    "results = []\n",
    "for file in files:\n",
    "\tif file.endswith('accuracy.csv'):\n",
    "\t\tdf = pd.read_csv(file)\n",
    "\t\tconfigs = file.split('_')\n",
    "\t\tresults.append({\n",
    "\t\t\t\"model\": configs[0],\n",
    "\t\t\t\"optimizer\": configs[2],\n",
    "\t\t\t\"learning_rate\": configs[3][2:],\n",
    "\t\t\t\"batch_size\": configs[4][2:],\n",
    "\t\t\t\"best_test_accuracy\": df['test_acc'].max(),\n",
    "\t\t})"
   ]
  },
  {
   "cell_type": "markdown",
   "metadata": {},
   "source": [
    "output results"
   ]
  },
  {
   "cell_type": "code",
   "execution_count": 12,
   "metadata": {},
   "outputs": [
    {
     "name": "stdout",
     "output_type": "stream",
     "text": [
      "| model    | optimizer   |   learning_rate |   batch_size |   best_test_accuracy |\n",
      "|:---------|:------------|----------------:|-------------:|---------------------:|\n",
      "| resnet18 | sgd         |           0.1   |           64 |               0.7826 |\n",
      "| resnet18 | sgd         |           0.01  |           32 |               0.7814 |\n",
      "| resnet18 | sgd         |           0.1   |          128 |               0.7757 |\n",
      "| resnet18 | sgd         |           0.1   |          256 |               0.7687 |\n",
      "| resnet18 | sgd         |           0.1   |           32 |               0.7683 |\n",
      "| resnet18 | sgd         |           0.01  |           64 |               0.7672 |\n",
      "| resnet18 | sgd         |           0.001 |           32 |               0.7567 |\n",
      "| resnet18 | sgd         |           0.01  |          128 |               0.7561 |\n",
      "| resnet18 | adam        |           0.001 |          256 |               0.7468 |\n",
      "| resnet18 | sgd         |           0.01  |          256 |               0.7463 |\n",
      "| resnet18 | adam        |           0.001 |          128 |               0.7319 |\n",
      "| resnet18 | sgd         |           0.001 |           64 |               0.729  |\n",
      "| resnet18 | sgd         |           0.001 |          128 |               0.6956 |\n",
      "| resnet18 | adam        |           0.001 |           64 |               0.6788 |\n",
      "| resnet18 | adam        |           0.001 |           32 |               0.6383 |\n",
      "| resnet18 | sgd         |           0.001 |          256 |               0.6377 |\n",
      "| vit      | sgd         |           0.01  |           64 |               0.5378 |\n",
      "| vit      | sgd         |           0.01  |           32 |               0.5319 |\n",
      "| vit      | sgd         |           0.01  |          128 |               0.5261 |\n",
      "| vit      | sgd         |           0.001 |           32 |               0.5089 |\n",
      "| vit      | sgd         |           0.01  |          256 |               0.5077 |\n",
      "| vit      | sgd         |           0.1   |          256 |               0.4909 |\n",
      "| vit      | sgd         |           0.001 |           64 |               0.4741 |\n",
      "| resnet18 | adam        |           0.01  |          256 |               0.4565 |\n",
      "| vit      | adam        |           0.001 |          256 |               0.4492 |\n",
      "| vit      | sgd         |           0.1   |          128 |               0.4407 |\n",
      "| vit      | adam        |           0.001 |          128 |               0.4297 |\n",
      "| resnet18 | adam        |           0.01  |          128 |               0.4273 |\n",
      "| vit      | sgd         |           0.001 |          128 |               0.4129 |\n",
      "| vit      | adam        |           0.001 |           64 |               0.4001 |\n",
      "| resnet18 | adam        |           0.01  |           64 |               0.3931 |\n",
      "| vit      | sgd         |           0.1   |           64 |               0.3895 |\n",
      "| vit      | adam        |           0.001 |           32 |               0.3802 |\n",
      "| resnet18 | adam        |           0.01  |           32 |               0.3418 |\n",
      "| vit      | sgd         |           0.001 |          256 |               0.332  |\n",
      "| resnet18 | adam        |           0.1   |          128 |               0.3258 |\n",
      "| resnet18 | adam        |           0.1   |           64 |               0.2939 |\n",
      "| vit      | adam        |           0.01  |          256 |               0.2844 |\n",
      "| vit      | sgd         |           0.1   |           32 |               0.2782 |\n",
      "| resnet18 | adam        |           0.1   |          256 |               0.2763 |\n",
      "| resnet18 | adam        |           0.1   |           32 |               0.2733 |\n",
      "| vit      | adam        |           0.01  |          128 |               0.2453 |\n",
      "| vit      | adam        |           0.01  |           64 |               0.2315 |\n",
      "| vit      | adam        |           0.01  |           32 |               0.2276 |\n",
      "| vit      | adam        |           0.1   |           64 |               0.2164 |\n",
      "| vit      | adam        |           0.1   |          128 |               0.205  |\n",
      "| vit      | adam        |           0.1   |          256 |               0.1804 |\n",
      "| vit      | adam        |           0.1   |           32 |               0.1586 |\n"
     ]
    }
   ],
   "source": [
    "res_df = pd.DataFrame(results)\n",
    "res_df = res_df.sort_values(by='best_test_accuracy', ascending=False)\n",
    "print(res_df.to_markdown(index=False))"
   ]
  }
 ],
 "metadata": {
  "kernelspec": {
   "display_name": "base",
   "language": "python",
   "name": "python3"
  },
  "language_info": {
   "codemirror_mode": {
    "name": "ipython",
    "version": 3
   },
   "file_extension": ".py",
   "mimetype": "text/x-python",
   "name": "python",
   "nbconvert_exporter": "python",
   "pygments_lexer": "ipython3",
   "version": "3.8.3"
  }
 },
 "nbformat": 4,
 "nbformat_minor": 2
}
